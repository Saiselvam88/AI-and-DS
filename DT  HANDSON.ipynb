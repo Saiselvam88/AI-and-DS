
pd.DataFrame(grid_search.cv_results_)
